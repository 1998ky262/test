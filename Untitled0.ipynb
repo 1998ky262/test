def wanko (NTR):
  print(NTR)
wanko(114514)
